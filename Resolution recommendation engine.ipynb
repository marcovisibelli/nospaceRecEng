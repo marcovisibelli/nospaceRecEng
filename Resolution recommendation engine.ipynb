{
 "cells": [
  {
   "cell_type": "code",
   "execution_count": 19,
   "metadata": {},
   "outputs": [],
   "source": [
    "\n",
    "products_list ={\n",
    "    \n",
    "    'id_134324':{\n",
    "    'name': 'Bosh sms40t32',\n",
    "    'maker' : 'Bosh',\n",
    "    'appliance' : 'Dishwasher',\n",
    "    'Year' : 2018,\n",
    "    'Internal article number' : 'SMS40T32GB',\n",
    "    'Market': 'EU',\n",
    "    'problems': [\n",
    "        {\"id\": 1, \"description\" : \"Detergent does not dissolve\"},\n",
    "        {\"id\": 2, \"description\" : \"Does not function\"},\n",
    "        {\"id\": 3, \"description\" : \"Door function defective\"},\n",
    "        {\"id\": 4, \"description\" : \"Error in the programme sequence\"},\n",
    "        {\"id\": 5, \"description\" : \"Not draining / water in the appliance\"},\n",
    "        {\"id\": 6, \"description\" : \"Other function problem\"},\n",
    "        {\"id\": 7, \"description\" : \"Water not running in\"},\n",
    "        {\"id\": 8, \"description\" : \"Error code / error display / signal\"}\n",
    "    ]\n",
    "\n",
    "    },\n",
    "    'id_134325':{\n",
    "    'name': 'KDW60S20',\n",
    "    'maker' : 'KENWOOD',\n",
    "    'appliance' : 'Dishwasher',\n",
    "    'Year' : 2019,\n",
    "    'Internal article number' : '3243256765A',\n",
    "    'Market': 'EU',\n",
    "        'problems': [\n",
    "        {\"id\": 1, \"description\" : \"Detergent does not dissolve\"},\n",
    "        {\"id\": 2, \"description\" : \"Does not function\"},\n",
    "        {\"id\": 3, \"description\" : \"Door function defective\"},\n",
    "        {\"id\": 4, \"description\" : \"Error in the programme sequence\"},\n",
    "        {\"id\": 5, \"description\" : \"Not draining / water in the appliance\"},\n",
    "        {\"id\": 6, \"description\" : \"Other function problem\"},\n",
    "        {\"id\": 7, \"description\" : \"Water not running in\"},\n",
    "        {\"id\": 8, \"description\" : \"Error code / error display / signal\"}\n",
    "    ]\n",
    "    },\n",
    "    'id_134326':{\n",
    "    'name': 'Bosh KUF55X18',\n",
    "    'maker' : 'KENWOOD',\n",
    "    'appliance' : 'Dishwasher',\n",
    "    'Year' : 2018,\n",
    "    'Internal article number' : '4537658kL££',\n",
    "    'Market': 'EU',\n",
    "        'problems': [\n",
    "        {\"id\": 1, \"description\" : \"Detergent does not dissolve\"},\n",
    "        {\"id\": 2, \"description\" : \"Does not function\"},\n",
    "        {\"id\": 3, \"description\" : \"Door function defective\"},\n",
    "        {\"id\": 4, \"description\" : \"Error in the programme sequence\"},\n",
    "        {\"id\": 5, \"description\" : \"Not draining / water in the appliance\"},\n",
    "        {\"id\": 6, \"description\" : \"Other function problem\"},\n",
    "        {\"id\": 7, \"description\" : \"Water not running in\"},\n",
    "        {\"id\": 8, \"description\" : \"Error code / error display / signal\"}\n",
    "    ]\n",
    "    \n",
    "    }\n",
    "\n",
    "}\n",
    "\n",
    "\n",
    "\n",
    "\n",
    "Resolutions_list ={\n",
    "\n",
    "    'id_134326':{\n",
    "\n",
    "                1: {\"id\": 1 ,\n",
    "                 \"description\": \"Waste water pump not working\",\n",
    "                 \"steps\":[\n",
    "                            {\"id\": 1,\n",
    "                             \"Description\": \"First always disconnect the appliance from the power supply.\",\n",
    "                             \"target\": []\n",
    "                            },\n",
    "\n",
    "                            {\"id\": 2,\n",
    "                             \"Description\": \"Take out top basket and bottom basket\",\n",
    "                             \"target\": []\n",
    "                            },\n",
    "\n",
    "\n",
    "                            {\"id\": 3,\n",
    "                             \"Description\": \"Remove the filters 1R\",\n",
    "                             \"target\": [15]\n",
    "                            },\n",
    "\n",
    "\n",
    "                            {\"id\": 4,\n",
    "                             \"Description\": \"Scoop out water, use a sponge if required\",\n",
    "                             \"target\": []\n",
    "                            },\n",
    "\n",
    "\n",
    "                            {\"id\": 5,\n",
    "                             \"Description\": \"Prise out the white pump cover(as illustrated) using a spoon.\",\n",
    "                             \"target\": []\n",
    "                            },\n",
    "\n",
    "\n",
    "                         ]\n",
    "                },\n",
    "               2:  {\"id\": 2 ,\n",
    "                 \"description\": \"Connect the power\",\n",
    "                 \"steps\":[\n",
    "                            {\"id\": 1,\n",
    "                             \"Description\": \"Check if the power is connected on the back\",\n",
    "                             \"target\": []\n",
    "                            }\n",
    "\n",
    "                         ]\n",
    "                }\n",
    "\n",
    "        }\n",
    "\n",
    "}\n",
    "\n",
    "\n",
    "\n",
    "recommendation_matrix ={\n",
    "    'id_134326':{\n",
    "    \n",
    "        1:[(10,0.90),(2,0.10)],\n",
    "        2:[(10,0.90),(2,0.10)],\n",
    "        3:[(10,0.90),(2,0.10)],\n",
    "        4:[(10,0.90),(2,0.10)],\n",
    "        5:[(10,0.90),(2,0.10)],\n",
    "        6:[(10,0.90),(2,0.10)],\n",
    "        7:[(10,0.90),(2,0.10)],\n",
    "        8:[(10,0.90),(2,0.10)],\n",
    "        9:[(10,0.90),(2,0.10)]\n",
    "    }\n",
    "\n",
    "}\n",
    "\n",
    "\n",
    "\n",
    "\n",
    "\n"
   ]
  },
  {
   "cell_type": "code",
   "execution_count": 20,
   "metadata": {},
   "outputs": [
    {
     "data": {
      "text/plain": [
       "(10, 0.9)"
      ]
     },
     "execution_count": 20,
     "metadata": {},
     "output_type": "execute_result"
    }
   ],
   "source": [
    "\n",
    "\n",
    "a = recommendation_matrix['id_134326'][1]\n",
    "\n",
    "lista = sorted(a, key=lambda tup: tup[1],reverse=True)\n",
    "\n",
    "lista[0]"
   ]
  },
  {
   "cell_type": "code",
   "execution_count": 21,
   "metadata": {},
   "outputs": [
    {
     "data": {
      "text/plain": [
       "[0.9, 0.1]"
      ]
     },
     "execution_count": 21,
     "metadata": {},
     "output_type": "execute_result"
    }
   ],
   "source": [
    "[b[1] for b in a]"
   ]
  },
  {
   "cell_type": "code",
   "execution_count": 24,
   "metadata": {},
   "outputs": [
    {
     "data": {
      "text/plain": [
       "{'id': 1,\n",
       " 'description': 'Waste water pump not working',\n",
       " 'steps': [{'id': 1,\n",
       "   'Description': 'First always disconnect the appliance from the power supply.',\n",
       "   'target': []},\n",
       "  {'id': 2,\n",
       "   'Description': 'Take out top basket and bottom basket',\n",
       "   'target': []},\n",
       "  {'id': 3, 'Description': 'Remove the filters 1R', 'target': [15]},\n",
       "  {'id': 4,\n",
       "   'Description': 'Scoop out water, use a sponge if required',\n",
       "   'target': []},\n",
       "  {'id': 5,\n",
       "   'Description': 'Prise out the white pump cover(as illustrated) using a spoon.',\n",
       "   'target': []}]}"
      ]
     },
     "execution_count": 24,
     "metadata": {},
     "output_type": "execute_result"
    }
   ],
   "source": [
    "Resolutions_list['id_134326'][1]"
   ]
  },
  {
   "cell_type": "code",
   "execution_count": null,
   "metadata": {},
   "outputs": [],
   "source": []
  }
 ],
 "metadata": {
  "kernelspec": {
   "display_name": "Python 3",
   "language": "python",
   "name": "python3"
  },
  "language_info": {
   "codemirror_mode": {
    "name": "ipython",
    "version": 3
   },
   "file_extension": ".py",
   "mimetype": "text/x-python",
   "name": "python",
   "nbconvert_exporter": "python",
   "pygments_lexer": "ipython3",
   "version": "3.8.5"
  }
 },
 "nbformat": 4,
 "nbformat_minor": 4
}
